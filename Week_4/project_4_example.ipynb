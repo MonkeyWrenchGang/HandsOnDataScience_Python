{
 "cells": [
  {
   "cell_type": "markdown",
   "metadata": {},
   "source": [
    "## Project 4 Examples\n",
    "- Mike Ames \n",
    "- amesam@wfu.edu\n",
    "- 18May2020\n",
    "\n",
    "### Load Packages\n",
    "-------\n",
    "\n"
   ]
  },
  {
   "cell_type": "code",
   "execution_count": 48,
   "metadata": {},
   "outputs": [
    {
     "data": {
      "text/html": [
       "<style>.container { width:90% }</style>"
      ],
      "text/plain": [
       "<IPython.core.display.HTML object>"
      ]
     },
     "metadata": {},
     "output_type": "display_data"
    }
   ],
   "source": [
    "from IPython.core.display import display, HTML\n",
    "from IPython.display import clear_output\n",
    "display(HTML(\"<style>.container { width:90% }</style>\"))\n",
    "import warnings\n",
    "warnings.filterwarnings('ignore')\n",
    "# ------------------------------------------------------------------\n",
    "\n",
    "import numpy as np\n",
    "import matplotlib.pyplot as plt\n",
    "import seaborn as sns\n",
    "import pandas as pd\n",
    "\n",
    "# -- sklearn modules \n",
    "from sklearn.model_selection import train_test_split   #- partition train/test split \n",
    "from sklearn.tree import DecisionTreeClassifier        #- create a decison tree \n",
    "from sklearn.ensemble import ExtraTreesClassifier      #- random trees \n",
    "from sklearn.ensemble import RandomForestClassifier    #- random forest classifier \n",
    "from sklearn.ensemble import GradientBoostingClassifier #- GBM classfier \n",
    "\n",
    "# -- we need these to make our pipelines \n",
    "from sklearn.pipeline import Pipeline\n",
    "from sklearn.impute import SimpleImputer\n",
    "from sklearn.inspection import permutation_importance\n",
    "from sklearn.compose import ColumnTransformer\n",
    "from sklearn.model_selection import train_test_split\n",
    "from sklearn.pipeline import Pipeline\n",
    "from sklearn.preprocessing import OneHotEncoder\n",
    "\n",
    "from sklearn.model_selection import GridSearchCV, RandomizedSearchCV\n",
    "from sklearn.metrics import roc_curve, auc\n",
    "\n",
    "# -- we need these to evaluate our models \n",
    "from sklearn.metrics import accuracy_score\n",
    "from sklearn.metrics import roc_curve, auc\n",
    "\n",
    "# -- categorical encoders -- \n",
    "from category_encoders import *\n",
    "\n",
    "\n",
    "# -- need this to render charts in notebook -- \n",
    "%matplotlib inline\n"
   ]
  },
  {
   "cell_type": "markdown",
   "metadata": {},
   "source": [
    "## Tasks \n",
    "\n",
    "\n",
    "### Part 1\n",
    "1. Stage data\n",
    "2. Clean up column names \n",
    "3. Describe data \n",
    "4. Explore likely predictors  \n",
    "\n",
    "### Part 2.\n",
    "5. Partition into 75/25 split \n",
    "6. Train & Evaluate Classifiers\n",
    "    - ExtraTrees\n",
    "    - RandomForest \n",
    "    - GradientBoosting \n",
    "    - Report, accuracy, auc, feature importance, ROC chart and FPR table \n",
    "    \n",
    "\n"
   ]
  },
  {
   "cell_type": "markdown",
   "metadata": {},
   "source": [
    "# Part 1. \n",
    "## 1. Stage \n",
    "----- \n",
    "import our dataset into a pandas dataframe"
   ]
  },
  {
   "cell_type": "code",
   "execution_count": 3,
   "metadata": {},
   "outputs": [
    {
     "data": {
      "text/html": [
       "<div>\n",
       "<style scoped>\n",
       "    .dataframe tbody tr th:only-of-type {\n",
       "        vertical-align: middle;\n",
       "    }\n",
       "\n",
       "    .dataframe tbody tr th {\n",
       "        vertical-align: top;\n",
       "    }\n",
       "\n",
       "    .dataframe thead th {\n",
       "        text-align: right;\n",
       "    }\n",
       "</style>\n",
       "<table border=\"1\" class=\"dataframe\">\n",
       "  <thead>\n",
       "    <tr style=\"text-align: right;\">\n",
       "      <th></th>\n",
       "      <th>age</th>\n",
       "      <th>workclass</th>\n",
       "      <th>fnlwgt</th>\n",
       "      <th>education</th>\n",
       "      <th>educational-num</th>\n",
       "      <th>marital-status</th>\n",
       "      <th>occupation</th>\n",
       "      <th>relationship</th>\n",
       "      <th>race</th>\n",
       "      <th>gender</th>\n",
       "      <th>capital-gain</th>\n",
       "      <th>capital-loss</th>\n",
       "      <th>hours-per-week</th>\n",
       "      <th>native-country</th>\n",
       "      <th>income</th>\n",
       "    </tr>\n",
       "  </thead>\n",
       "  <tbody>\n",
       "    <tr>\n",
       "      <td>0</td>\n",
       "      <td>25</td>\n",
       "      <td>Private</td>\n",
       "      <td>226802</td>\n",
       "      <td>11th</td>\n",
       "      <td>7</td>\n",
       "      <td>Never-married</td>\n",
       "      <td>Machine-op-inspct</td>\n",
       "      <td>Own-child</td>\n",
       "      <td>Black</td>\n",
       "      <td>Male</td>\n",
       "      <td>0</td>\n",
       "      <td>0</td>\n",
       "      <td>40</td>\n",
       "      <td>United-States</td>\n",
       "      <td>&lt;=50K</td>\n",
       "    </tr>\n",
       "    <tr>\n",
       "      <td>1</td>\n",
       "      <td>38</td>\n",
       "      <td>Private</td>\n",
       "      <td>89814</td>\n",
       "      <td>HS-grad</td>\n",
       "      <td>9</td>\n",
       "      <td>Married-civ-spouse</td>\n",
       "      <td>Farming-fishing</td>\n",
       "      <td>Husband</td>\n",
       "      <td>White</td>\n",
       "      <td>Male</td>\n",
       "      <td>0</td>\n",
       "      <td>0</td>\n",
       "      <td>50</td>\n",
       "      <td>United-States</td>\n",
       "      <td>&lt;=50K</td>\n",
       "    </tr>\n",
       "    <tr>\n",
       "      <td>2</td>\n",
       "      <td>28</td>\n",
       "      <td>Local-gov</td>\n",
       "      <td>336951</td>\n",
       "      <td>Assoc-acdm</td>\n",
       "      <td>12</td>\n",
       "      <td>Married-civ-spouse</td>\n",
       "      <td>Protective-serv</td>\n",
       "      <td>Husband</td>\n",
       "      <td>White</td>\n",
       "      <td>Male</td>\n",
       "      <td>0</td>\n",
       "      <td>0</td>\n",
       "      <td>40</td>\n",
       "      <td>United-States</td>\n",
       "      <td>&gt;50K</td>\n",
       "    </tr>\n",
       "    <tr>\n",
       "      <td>3</td>\n",
       "      <td>44</td>\n",
       "      <td>Private</td>\n",
       "      <td>160323</td>\n",
       "      <td>Some-college</td>\n",
       "      <td>10</td>\n",
       "      <td>Married-civ-spouse</td>\n",
       "      <td>Machine-op-inspct</td>\n",
       "      <td>Husband</td>\n",
       "      <td>Black</td>\n",
       "      <td>Male</td>\n",
       "      <td>7688</td>\n",
       "      <td>0</td>\n",
       "      <td>40</td>\n",
       "      <td>United-States</td>\n",
       "      <td>&gt;50K</td>\n",
       "    </tr>\n",
       "    <tr>\n",
       "      <td>4</td>\n",
       "      <td>18</td>\n",
       "      <td>NaN</td>\n",
       "      <td>103497</td>\n",
       "      <td>Some-college</td>\n",
       "      <td>10</td>\n",
       "      <td>Never-married</td>\n",
       "      <td>NaN</td>\n",
       "      <td>Own-child</td>\n",
       "      <td>White</td>\n",
       "      <td>Female</td>\n",
       "      <td>0</td>\n",
       "      <td>0</td>\n",
       "      <td>30</td>\n",
       "      <td>United-States</td>\n",
       "      <td>&lt;=50K</td>\n",
       "    </tr>\n",
       "  </tbody>\n",
       "</table>\n",
       "</div>"
      ],
      "text/plain": [
       "   age  workclass  fnlwgt     education  educational-num      marital-status  \\\n",
       "0   25    Private  226802          11th                7       Never-married   \n",
       "1   38    Private   89814       HS-grad                9  Married-civ-spouse   \n",
       "2   28  Local-gov  336951    Assoc-acdm               12  Married-civ-spouse   \n",
       "3   44    Private  160323  Some-college               10  Married-civ-spouse   \n",
       "4   18        NaN  103497  Some-college               10       Never-married   \n",
       "\n",
       "          occupation relationship   race  gender  capital-gain  capital-loss  \\\n",
       "0  Machine-op-inspct    Own-child  Black    Male             0             0   \n",
       "1    Farming-fishing      Husband  White    Male             0             0   \n",
       "2    Protective-serv      Husband  White    Male             0             0   \n",
       "3  Machine-op-inspct      Husband  Black    Male          7688             0   \n",
       "4                NaN    Own-child  White  Female             0             0   \n",
       "\n",
       "   hours-per-week native-country income  \n",
       "0              40  United-States  <=50K  \n",
       "1              50  United-States  <=50K  \n",
       "2              40  United-States   >50K  \n",
       "3              40  United-States   >50K  \n",
       "4              30  United-States  <=50K  "
      ]
     },
     "execution_count": 3,
     "metadata": {},
     "output_type": "execute_result"
    }
   ],
   "source": [
    "df = pd.read_csv(\"./data/adult.csv\",na_values=\"?\")\n",
    "df.head()"
   ]
  },
  {
   "cell_type": "markdown",
   "metadata": {},
   "source": [
    "## 2.  Clean up Column Names\n",
    "\n",
    "*It's just not fun dealing with ill-formed columns*\n",
    "\n",
    "- remove leading and trailing characters\n",
    "- replace spaces with underscores _ \n",
    "- change case to lower case\n",
    "- remove various special characters"
   ]
  },
  {
   "cell_type": "code",
   "execution_count": 4,
   "metadata": {},
   "outputs": [
    {
     "name": "stdout",
     "output_type": "stream",
     "text": [
      "Index(['age', 'workclass', 'fnlwgt', 'education', 'educational_num',\n",
      "       'marital_status', 'occupation', 'relationship', 'race', 'gender',\n",
      "       'capital_gain', 'capital_loss', 'hours_per_week', 'native_country',\n",
      "       'income'],\n",
      "      dtype='object')\n"
     ]
    }
   ],
   "source": [
    "df.columns = ( df.columns\n",
    "    .str.strip()\n",
    "    .str.lower()\n",
    "    .str.replace(' ', '_')\n",
    "    .str.replace('-', '_')\n",
    "    .str.replace('(', '')\n",
    "    .str.replace(')', '')\n",
    "    .str.replace('?', '')\n",
    "    .str.replace('\\'', '') # notice the backslash \\ this is an escape character\n",
    ")\n",
    "print(df.columns)"
   ]
  },
  {
   "cell_type": "markdown",
   "metadata": {},
   "source": [
    "# Part 2.\n",
    "## 5. Partition into 75/25 split \n"
   ]
  },
  {
   "cell_type": "code",
   "execution_count": 5,
   "metadata": {},
   "outputs": [
    {
     "data": {
      "text/plain": [
       "0    0.760718\n",
       "1    0.239282\n",
       "Name: income, dtype: float64"
      ]
     },
     "execution_count": 5,
     "metadata": {},
     "output_type": "execute_result"
    }
   ],
   "source": [
    "## Convert income to a 0 / 1 \n",
    "df['income'] = df['income'].map({'<=50K': 0, '>50K': 1})\n",
    "df['income'].value_counts(normalize=True)"
   ]
  },
  {
   "cell_type": "code",
   "execution_count": 6,
   "metadata": {},
   "outputs": [
    {
     "name": "stdout",
     "output_type": "stream",
     "text": [
      "train pct: 70.00%\n",
      "test  pct: 30.00%\n"
     ]
    }
   ],
   "source": [
    "train, test = train_test_split(df,test_size=0.30)\n",
    "print(\"train pct: {:2.2%}\".format(train.shape[0]/df.shape[0]))\n",
    "print(\"test  pct: {:2.2%}\".format(test.shape[0]/df.shape[0]))\n"
   ]
  },
  {
   "cell_type": "markdown",
   "metadata": {},
   "source": [
    "## 6. Train & Evaluate Classifiers\n",
    "- ExtraTrees\n",
    "- RandomForest \n",
    "- GradientBoosting \n",
    "- Report, accuracy, auc, feature importance, ROC chart and FPR table "
   ]
  },
  {
   "cell_type": "code",
   "execution_count": 7,
   "metadata": {},
   "outputs": [],
   "source": [
    "# 1. Split features into categorical and numeric \n",
    "target = 'income'\n",
    "\n",
    "numeric_features = ['age',\n",
    "                    \"fnlwgt\", \n",
    "                    \"educational_num\",\n",
    "                    \"capital_gain\",\n",
    "                    \"capital_loss\",\n",
    "                    \"hours_per_week\"]\n",
    "\n",
    "categorical_features = [\"gender\",\n",
    "                        \"relationship\",\n",
    "                        \"marital_status\",\n",
    "                        \"workclass\",\n",
    "                        \"occupation\",\n",
    "                        \"education\"] \n",
    "\n",
    "feature_names = numeric_features + categorical_features"
   ]
  },
  {
   "cell_type": "code",
   "execution_count": 46,
   "metadata": {},
   "outputs": [
    {
     "data": {
      "text/plain": [
       "{'classifier__n_estimators': [10, 20, 30],\n",
       " 'classifier__max_depth': [15, 20, 25],\n",
       " 'classifier__min_samples_leaf': [2, 4]}"
      ]
     },
     "execution_count": 46,
     "metadata": {},
     "output_type": "execute_result"
    }
   ],
   "source": [
    "\n",
    "\n"
   ]
  },
  {
   "cell_type": "code",
   "execution_count": 75,
   "metadata": {},
   "outputs": [
    {
     "name": "stdout",
     "output_type": "stream",
     "text": [
      "Fitting 5 folds for each of 3 candidates, totalling 15 fits\n"
     ]
    },
    {
     "name": "stderr",
     "output_type": "stream",
     "text": [
      "[Parallel(n_jobs=-1)]: Using backend LokyBackend with 4 concurrent workers.\n",
      "[Parallel(n_jobs=-1)]: Done  15 out of  15 | elapsed:   42.8s finished\n"
     ]
    }
   ],
   "source": [
    "# -- define pipeline --\n",
    "categorical_pipe = Pipeline([\n",
    "    ('imputer', SimpleImputer(strategy='constant', fill_value='missing')),\n",
    "    ('trgenc',  TargetEncoder())  \n",
    "])\n",
    "\n",
    "numerical_pipe = Pipeline([\n",
    "    ('imputer', SimpleImputer(strategy='mean'))\n",
    "])\n",
    "\n",
    "preprocessing = ColumnTransformer(transformers=[\n",
    "    ('cat', categorical_pipe, categorical_features),\n",
    "    ('num', numerical_pipe, numeric_features)\n",
    "    ])\n",
    "\n",
    "model_pipeline = Pipeline([\n",
    "    ('preprocess', preprocessing),\n",
    "    ('classifier', GradientBoostingClassifier())\n",
    "])\n",
    "\n",
    "\n",
    "param_grid = {\n",
    "            'classifier__learning_rate':[0.001,0.01,0.1],\n",
    "            'classifier__n_estimators': [20, 30],\n",
    "            'classifier__max_depth': [15,25],\n",
    "            'classifier__min_samples_leaf': [2,4]\n",
    "    }\n",
    "\n",
    "# -- setup grid search -- \n",
    "gbm_model  = RandomizedSearchCV(model_pipeline, param_grid, n_iter= 3, n_jobs=-1, verbose=3, cv=5, scoring=\"roc_auc\", refit=True)\n",
    "hpo_search = gbm_model.fit(train[numeric_features + categorical_features], train[target])"
   ]
  },
  {
   "cell_type": "code",
   "execution_count": 82,
   "metadata": {},
   "outputs": [
    {
     "data": {
      "text/plain": [
       "[{'classifier__learning_rate': 0.001,\n",
       "  'classifier__max_depth': 15,\n",
       "  'classifier__min_samples_leaf': 2,\n",
       "  'classifier__n_estimators': 20},\n",
       " {'classifier__learning_rate': 0.001,\n",
       "  'classifier__max_depth': 15,\n",
       "  'classifier__min_samples_leaf': 2,\n",
       "  'classifier__n_estimators': 30},\n",
       " {'classifier__learning_rate': 0.001,\n",
       "  'classifier__max_depth': 15,\n",
       "  'classifier__min_samples_leaf': 4,\n",
       "  'classifier__n_estimators': 20},\n",
       " {'classifier__learning_rate': 0.001,\n",
       "  'classifier__max_depth': 15,\n",
       "  'classifier__min_samples_leaf': 4,\n",
       "  'classifier__n_estimators': 30},\n",
       " {'classifier__learning_rate': 0.001,\n",
       "  'classifier__max_depth': 25,\n",
       "  'classifier__min_samples_leaf': 2,\n",
       "  'classifier__n_estimators': 20},\n",
       " {'classifier__learning_rate': 0.001,\n",
       "  'classifier__max_depth': 25,\n",
       "  'classifier__min_samples_leaf': 2,\n",
       "  'classifier__n_estimators': 30},\n",
       " {'classifier__learning_rate': 0.001,\n",
       "  'classifier__max_depth': 25,\n",
       "  'classifier__min_samples_leaf': 4,\n",
       "  'classifier__n_estimators': 20},\n",
       " {'classifier__learning_rate': 0.001,\n",
       "  'classifier__max_depth': 25,\n",
       "  'classifier__min_samples_leaf': 4,\n",
       "  'classifier__n_estimators': 30},\n",
       " {'classifier__learning_rate': 0.01,\n",
       "  'classifier__max_depth': 15,\n",
       "  'classifier__min_samples_leaf': 2,\n",
       "  'classifier__n_estimators': 20},\n",
       " {'classifier__learning_rate': 0.01,\n",
       "  'classifier__max_depth': 15,\n",
       "  'classifier__min_samples_leaf': 2,\n",
       "  'classifier__n_estimators': 30},\n",
       " {'classifier__learning_rate': 0.01,\n",
       "  'classifier__max_depth': 15,\n",
       "  'classifier__min_samples_leaf': 4,\n",
       "  'classifier__n_estimators': 20},\n",
       " {'classifier__learning_rate': 0.01,\n",
       "  'classifier__max_depth': 15,\n",
       "  'classifier__min_samples_leaf': 4,\n",
       "  'classifier__n_estimators': 30},\n",
       " {'classifier__learning_rate': 0.01,\n",
       "  'classifier__max_depth': 25,\n",
       "  'classifier__min_samples_leaf': 2,\n",
       "  'classifier__n_estimators': 20},\n",
       " {'classifier__learning_rate': 0.01,\n",
       "  'classifier__max_depth': 25,\n",
       "  'classifier__min_samples_leaf': 2,\n",
       "  'classifier__n_estimators': 30},\n",
       " {'classifier__learning_rate': 0.01,\n",
       "  'classifier__max_depth': 25,\n",
       "  'classifier__min_samples_leaf': 4,\n",
       "  'classifier__n_estimators': 20},\n",
       " {'classifier__learning_rate': 0.01,\n",
       "  'classifier__max_depth': 25,\n",
       "  'classifier__min_samples_leaf': 4,\n",
       "  'classifier__n_estimators': 30},\n",
       " {'classifier__learning_rate': 0.1,\n",
       "  'classifier__max_depth': 15,\n",
       "  'classifier__min_samples_leaf': 2,\n",
       "  'classifier__n_estimators': 20},\n",
       " {'classifier__learning_rate': 0.1,\n",
       "  'classifier__max_depth': 15,\n",
       "  'classifier__min_samples_leaf': 2,\n",
       "  'classifier__n_estimators': 30},\n",
       " {'classifier__learning_rate': 0.1,\n",
       "  'classifier__max_depth': 15,\n",
       "  'classifier__min_samples_leaf': 4,\n",
       "  'classifier__n_estimators': 20},\n",
       " {'classifier__learning_rate': 0.1,\n",
       "  'classifier__max_depth': 15,\n",
       "  'classifier__min_samples_leaf': 4,\n",
       "  'classifier__n_estimators': 30},\n",
       " {'classifier__learning_rate': 0.1,\n",
       "  'classifier__max_depth': 25,\n",
       "  'classifier__min_samples_leaf': 2,\n",
       "  'classifier__n_estimators': 20},\n",
       " {'classifier__learning_rate': 0.1,\n",
       "  'classifier__max_depth': 25,\n",
       "  'classifier__min_samples_leaf': 2,\n",
       "  'classifier__n_estimators': 30},\n",
       " {'classifier__learning_rate': 0.1,\n",
       "  'classifier__max_depth': 25,\n",
       "  'classifier__min_samples_leaf': 4,\n",
       "  'classifier__n_estimators': 20},\n",
       " {'classifier__learning_rate': 0.1,\n",
       "  'classifier__max_depth': 25,\n",
       "  'classifier__min_samples_leaf': 4,\n",
       "  'classifier__n_estimators': 30}]"
      ]
     },
     "execution_count": 82,
     "metadata": {},
     "output_type": "execute_result"
    }
   ],
   "source": [
    "from sklearn.model_selection import ParameterGrid\n",
    "\n",
    "list(ParameterGrid(param_grid))"
   ]
  },
  {
   "cell_type": "code",
   "execution_count": 76,
   "metadata": {
    "scrolled": false
   },
   "outputs": [
    {
     "name": "stdout",
     "output_type": "stream",
     "text": [
      "cv\n",
      "error_score\n",
      "estimator__memory\n",
      "estimator__steps\n",
      "estimator__verbose\n",
      "estimator__preprocess\n",
      "estimator__classifier\n",
      "estimator__preprocess__n_jobs\n",
      "estimator__preprocess__remainder\n",
      "estimator__preprocess__sparse_threshold\n",
      "estimator__preprocess__transformer_weights\n",
      "estimator__preprocess__transformers\n",
      "estimator__preprocess__verbose\n",
      "estimator__preprocess__cat\n",
      "estimator__preprocess__num\n",
      "estimator__preprocess__cat__memory\n",
      "estimator__preprocess__cat__steps\n",
      "estimator__preprocess__cat__verbose\n",
      "estimator__preprocess__cat__imputer\n",
      "estimator__preprocess__cat__trgenc\n",
      "estimator__preprocess__cat__imputer__add_indicator\n",
      "estimator__preprocess__cat__imputer__copy\n",
      "estimator__preprocess__cat__imputer__fill_value\n",
      "estimator__preprocess__cat__imputer__missing_values\n",
      "estimator__preprocess__cat__imputer__strategy\n",
      "estimator__preprocess__cat__imputer__verbose\n",
      "estimator__preprocess__cat__trgenc__cols\n",
      "estimator__preprocess__cat__trgenc__drop_invariant\n",
      "estimator__preprocess__cat__trgenc__handle_missing\n",
      "estimator__preprocess__cat__trgenc__handle_unknown\n",
      "estimator__preprocess__cat__trgenc__min_samples_leaf\n",
      "estimator__preprocess__cat__trgenc__return_df\n",
      "estimator__preprocess__cat__trgenc__smoothing\n",
      "estimator__preprocess__cat__trgenc__verbose\n",
      "estimator__preprocess__num__memory\n",
      "estimator__preprocess__num__steps\n",
      "estimator__preprocess__num__verbose\n",
      "estimator__preprocess__num__imputer\n",
      "estimator__preprocess__num__imputer__add_indicator\n",
      "estimator__preprocess__num__imputer__copy\n",
      "estimator__preprocess__num__imputer__fill_value\n",
      "estimator__preprocess__num__imputer__missing_values\n",
      "estimator__preprocess__num__imputer__strategy\n",
      "estimator__preprocess__num__imputer__verbose\n",
      "estimator__classifier__ccp_alpha\n",
      "estimator__classifier__criterion\n",
      "estimator__classifier__init\n",
      "estimator__classifier__learning_rate\n",
      "estimator__classifier__loss\n",
      "estimator__classifier__max_depth\n",
      "estimator__classifier__max_features\n",
      "estimator__classifier__max_leaf_nodes\n",
      "estimator__classifier__min_impurity_decrease\n",
      "estimator__classifier__min_impurity_split\n",
      "estimator__classifier__min_samples_leaf\n",
      "estimator__classifier__min_samples_split\n",
      "estimator__classifier__min_weight_fraction_leaf\n",
      "estimator__classifier__n_estimators\n",
      "estimator__classifier__n_iter_no_change\n",
      "estimator__classifier__presort\n",
      "estimator__classifier__random_state\n",
      "estimator__classifier__subsample\n",
      "estimator__classifier__tol\n",
      "estimator__classifier__validation_fraction\n",
      "estimator__classifier__verbose\n",
      "estimator__classifier__warm_start\n",
      "estimator\n",
      "iid\n",
      "n_iter\n",
      "n_jobs\n",
      "param_distributions\n",
      "pre_dispatch\n",
      "random_state\n",
      "refit\n",
      "return_train_score\n",
      "scoring\n",
      "verbose\n"
     ]
    }
   ],
   "source": [
    "for key in gbm_model.get_params().keys():\n",
    "    print(key)"
   ]
  },
  {
   "cell_type": "code",
   "execution_count": 77,
   "metadata": {},
   "outputs": [
    {
     "data": {
      "text/html": [
       "<div>\n",
       "<style scoped>\n",
       "    .dataframe tbody tr th:only-of-type {\n",
       "        vertical-align: middle;\n",
       "    }\n",
       "\n",
       "    .dataframe tbody tr th {\n",
       "        vertical-align: top;\n",
       "    }\n",
       "\n",
       "    .dataframe thead th {\n",
       "        text-align: right;\n",
       "    }\n",
       "</style>\n",
       "<table border=\"1\" class=\"dataframe\">\n",
       "  <thead>\n",
       "    <tr style=\"text-align: right;\">\n",
       "      <th></th>\n",
       "      <th>mean_fit_time</th>\n",
       "      <th>std_fit_time</th>\n",
       "      <th>mean_score_time</th>\n",
       "      <th>std_score_time</th>\n",
       "      <th>param_classifier__n_estimators</th>\n",
       "      <th>param_classifier__min_samples_leaf</th>\n",
       "      <th>param_classifier__max_depth</th>\n",
       "      <th>param_classifier__learning_rate</th>\n",
       "      <th>params</th>\n",
       "      <th>split0_test_score</th>\n",
       "      <th>split1_test_score</th>\n",
       "      <th>split2_test_score</th>\n",
       "      <th>split3_test_score</th>\n",
       "      <th>split4_test_score</th>\n",
       "      <th>mean_test_score</th>\n",
       "      <th>std_test_score</th>\n",
       "      <th>rank_test_score</th>\n",
       "    </tr>\n",
       "  </thead>\n",
       "  <tbody>\n",
       "    <tr>\n",
       "      <td>0</td>\n",
       "      <td>17.415245</td>\n",
       "      <td>1.315920</td>\n",
       "      <td>0.160678</td>\n",
       "      <td>0.036491</td>\n",
       "      <td>30</td>\n",
       "      <td>2</td>\n",
       "      <td>25</td>\n",
       "      <td>0.001</td>\n",
       "      <td>{'classifier__n_estimators': 30, 'classifier__...</td>\n",
       "      <td>0.806228</td>\n",
       "      <td>0.815292</td>\n",
       "      <td>0.820778</td>\n",
       "      <td>0.799123</td>\n",
       "      <td>0.808259</td>\n",
       "      <td>0.809936</td>\n",
       "      <td>0.007480</td>\n",
       "      <td>3</td>\n",
       "    </tr>\n",
       "    <tr>\n",
       "      <td>1</td>\n",
       "      <td>6.369619</td>\n",
       "      <td>0.058785</td>\n",
       "      <td>0.088797</td>\n",
       "      <td>0.025367</td>\n",
       "      <td>20</td>\n",
       "      <td>4</td>\n",
       "      <td>15</td>\n",
       "      <td>0.1</td>\n",
       "      <td>{'classifier__n_estimators': 20, 'classifier__...</td>\n",
       "      <td>0.909373</td>\n",
       "      <td>0.915776</td>\n",
       "      <td>0.903151</td>\n",
       "      <td>0.912967</td>\n",
       "      <td>0.915178</td>\n",
       "      <td>0.911289</td>\n",
       "      <td>0.004647</td>\n",
       "      <td>1</td>\n",
       "    </tr>\n",
       "    <tr>\n",
       "      <td>2</td>\n",
       "      <td>6.855793</td>\n",
       "      <td>0.394128</td>\n",
       "      <td>0.060995</td>\n",
       "      <td>0.016905</td>\n",
       "      <td>20</td>\n",
       "      <td>2</td>\n",
       "      <td>15</td>\n",
       "      <td>0.1</td>\n",
       "      <td>{'classifier__n_estimators': 20, 'classifier__...</td>\n",
       "      <td>0.906010</td>\n",
       "      <td>0.908860</td>\n",
       "      <td>0.898670</td>\n",
       "      <td>0.906929</td>\n",
       "      <td>0.910199</td>\n",
       "      <td>0.906134</td>\n",
       "      <td>0.004008</td>\n",
       "      <td>2</td>\n",
       "    </tr>\n",
       "  </tbody>\n",
       "</table>\n",
       "</div>"
      ],
      "text/plain": [
       "   mean_fit_time  std_fit_time  mean_score_time  std_score_time  \\\n",
       "0      17.415245      1.315920         0.160678        0.036491   \n",
       "1       6.369619      0.058785         0.088797        0.025367   \n",
       "2       6.855793      0.394128         0.060995        0.016905   \n",
       "\n",
       "  param_classifier__n_estimators param_classifier__min_samples_leaf  \\\n",
       "0                             30                                  2   \n",
       "1                             20                                  4   \n",
       "2                             20                                  2   \n",
       "\n",
       "  param_classifier__max_depth param_classifier__learning_rate  \\\n",
       "0                          25                           0.001   \n",
       "1                          15                             0.1   \n",
       "2                          15                             0.1   \n",
       "\n",
       "                                              params  split0_test_score  \\\n",
       "0  {'classifier__n_estimators': 30, 'classifier__...           0.806228   \n",
       "1  {'classifier__n_estimators': 20, 'classifier__...           0.909373   \n",
       "2  {'classifier__n_estimators': 20, 'classifier__...           0.906010   \n",
       "\n",
       "   split1_test_score  split2_test_score  split3_test_score  split4_test_score  \\\n",
       "0           0.815292           0.820778           0.799123           0.808259   \n",
       "1           0.915776           0.903151           0.912967           0.915178   \n",
       "2           0.908860           0.898670           0.906929           0.910199   \n",
       "\n",
       "   mean_test_score  std_test_score  rank_test_score  \n",
       "0         0.809936        0.007480                3  \n",
       "1         0.911289        0.004647                1  \n",
       "2         0.906134        0.004008                2  "
      ]
     },
     "execution_count": 77,
     "metadata": {},
     "output_type": "execute_result"
    }
   ],
   "source": [
    "pd.DataFrame(hpo_search.cv_results_)"
   ]
  },
  {
   "cell_type": "code",
   "execution_count": 78,
   "metadata": {},
   "outputs": [
    {
     "data": {
      "text/plain": [
       "Pipeline(memory=None,\n",
       "         steps=[('preprocess',\n",
       "                 ColumnTransformer(n_jobs=None, remainder='drop',\n",
       "                                   sparse_threshold=0.3,\n",
       "                                   transformer_weights=None,\n",
       "                                   transformers=[('cat',\n",
       "                                                  Pipeline(memory=None,\n",
       "                                                           steps=[('imputer',\n",
       "                                                                   SimpleImputer(add_indicator=False,\n",
       "                                                                                 copy=True,\n",
       "                                                                                 fill_value='missing',\n",
       "                                                                                 missing_values=nan,\n",
       "                                                                                 strategy='constant',\n",
       "                                                                                 verbose=0)),\n",
       "                                                                  ('trgenc',\n",
       "                                                                   TargetEncoder(cols=None,\n",
       "                                                                                 drop_...\n",
       "                                            learning_rate=0.1, loss='deviance',\n",
       "                                            max_depth=15, max_features=None,\n",
       "                                            max_leaf_nodes=None,\n",
       "                                            min_impurity_decrease=0.0,\n",
       "                                            min_impurity_split=None,\n",
       "                                            min_samples_leaf=4,\n",
       "                                            min_samples_split=2,\n",
       "                                            min_weight_fraction_leaf=0.0,\n",
       "                                            n_estimators=20,\n",
       "                                            n_iter_no_change=None,\n",
       "                                            presort='deprecated',\n",
       "                                            random_state=None, subsample=1.0,\n",
       "                                            tol=0.0001, validation_fraction=0.1,\n",
       "                                            verbose=0, warm_start=False))],\n",
       "         verbose=False)"
      ]
     },
     "execution_count": 78,
     "metadata": {},
     "output_type": "execute_result"
    }
   ],
   "source": [
    "hpo_search.best_estimator_"
   ]
  },
  {
   "cell_type": "code",
   "execution_count": 79,
   "metadata": {},
   "outputs": [
    {
     "data": {
      "text/plain": [
       "array([0, 0, 0, ..., 0, 1, 1])"
      ]
     },
     "execution_count": 79,
     "metadata": {},
     "output_type": "execute_result"
    }
   ],
   "source": [
    "gbm_estimator = hpo_search.best_estimator_\n",
    "\n",
    "gbm_estimator.predict(test[numeric_features + categorical_features])"
   ]
  },
  {
   "cell_type": "code",
   "execution_count": 83,
   "metadata": {},
   "outputs": [
    {
     "data": {
      "text/plain": [
       "{'classifier__n_estimators': 20,\n",
       " 'classifier__min_samples_leaf': 4,\n",
       " 'classifier__max_depth': 15,\n",
       " 'classifier__learning_rate': 0.1}"
      ]
     },
     "execution_count": 83,
     "metadata": {},
     "output_type": "execute_result"
    }
   ],
   "source": [
    "hpo_search.best_params_"
   ]
  },
  {
   "cell_type": "code",
   "execution_count": null,
   "metadata": {},
   "outputs": [],
   "source": []
  },
  {
   "cell_type": "code",
   "execution_count": null,
   "metadata": {},
   "outputs": [],
   "source": []
  },
  {
   "cell_type": "code",
   "execution_count": null,
   "metadata": {},
   "outputs": [],
   "source": []
  },
  {
   "cell_type": "markdown",
   "metadata": {},
   "source": [
    "## Create our Pipelines\n",
    "----\n",
    "if you are real-slick you can do it all in one pipeline by itteratting over a list of models, but that's \"fancy\". i'm lazy so i just copy each pipeline. Another thing you can do is try different encoders too. \n",
    "\n"
   ]
  },
  {
   "cell_type": "code",
   "execution_count": 7,
   "metadata": {},
   "outputs": [
    {
     "name": "stdout",
     "output_type": "stream",
     "text": [
      "Fitting 3 folds for each of 12 candidates, totalling 36 fits\n"
     ]
    },
    {
     "name": "stderr",
     "output_type": "stream",
     "text": [
      "[Parallel(n_jobs=-1)]: Using backend LokyBackend with 4 concurrent workers.\n",
      "[Parallel(n_jobs=-1)]: Done  24 tasks      | elapsed:   12.2s\n",
      "[Parallel(n_jobs=-1)]: Done  36 out of  36 | elapsed:   15.7s finished\n"
     ]
    },
    {
     "name": "stdout",
     "output_type": "stream",
     "text": [
      "Best parameter (CV auc=0.908):\n",
      "{'classifier__max_depth': 25, 'classifier__min_samples_leaf': 4, 'classifier__n_estimators': 20}\n",
      "\n",
      "\n",
      "--- Training & Test Performance ---\n",
      "(Training):\n",
      "Accuracy 0.875\n",
      "AUC.     0.936\n",
      "(Test):\n",
      "Accuracy 0.856\n",
      "AUC.     0.909\n"
     ]
    },
    {
     "data": {
      "image/png": "[encoded data removed]",
      "text/plain": [
       "<Figure size 1440x360 with 1 Axes>"
      ]
     },
     "metadata": {
      "needs_background": "light"
     },
     "output_type": "display_data"
    },
    {
     "data": {
      "image/png": "[encoded data removed]",
      "text/plain": [
       "<Figure size 1440x360 with 1 Axes>"
      ]
     },
     "metadata": {
      "needs_background": "light"
     },
     "output_type": "display_data"
    },
    {
     "name": "stdout",
     "output_type": "stream",
     "text": [
      "--- TEST score thresholds ---\n",
      "    fpr   tpr  threshold\n",
      "0  0.01  0.25       0.73\n",
      "1  0.02  0.37       0.65\n",
      "2  0.03  0.43       0.61\n",
      "3  0.04  0.48       0.57\n",
      "4  0.05  0.53       0.53\n",
      "\n",
      "\n"
     ]
    }
   ],
   "source": [
    "from sklearn.model_selection import GridSearchCV\n",
    "from sklearn.metrics import roc_curve, auc\n",
    "\n",
    "def model_et_fit(param_grid):\n",
    "    \n",
    "    # -- define pipeline --\n",
    "    categorical_pipe = Pipeline([\n",
    "        ('imputer', SimpleImputer(strategy='constant', fill_value='missing')),\n",
    "        ('trgenc',  TargetEncoder(smoothing = 2))  \n",
    "    ])\n",
    "\n",
    "    numerical_pipe = Pipeline([\n",
    "        ('imputer', SimpleImputer(strategy='mean'))\n",
    "    ])\n",
    "\n",
    "    preprocessing = ColumnTransformer(transformers=[\n",
    "        ('cat', categorical_pipe, categorical_features),\n",
    "        ('num', numerical_pipe, numeric_features)\n",
    "        ])\n",
    "\n",
    "    model_pipeline = Pipeline([\n",
    "        ('preprocess', preprocessing),\n",
    "        ('classifier', ExtraTreesClassifier())\n",
    "    ])\n",
    "    \n",
    "    \n",
    "    # -- setup grid search -- \n",
    "    et_model = GridSearchCV(model_pipeline, param_grid, n_jobs=-1, verbose=3, cv=3, scoring=\"roc_auc\", refit=True)\n",
    "    # -- fit grid search --\n",
    "    et_model.fit(train[numeric_features + categorical_features], train[target])\n",
    "    # -- print results -- \n",
    "    print(\"Best parameter (CV auc=%0.3f):\" % et_model.best_score_)\n",
    "    print(et_model.best_params_)\n",
    "    print(\"\\n\")\n",
    "    \n",
    "    # -- assess best model, notice refit=True -- \n",
    "    train['.pred'] = et_model.predict(train[numeric_features + categorical_features])\n",
    "    train_probabilites = et_model.predict_proba(train[numeric_features + categorical_features])\n",
    "    train_fpr, train_tpr, train_thr= roc_curve(train[target], train_probabilites[:,1])\n",
    "    \n",
    "    print(\"--- Training & Test Performance ---\")\n",
    "    print(\"(Training):\")\n",
    "    print(\"Accuracy %0.3f\" % accuracy_score(train[target], train['.pred']))\n",
    "    print(\"AUC.     %0.3f\" % auc(train_fpr,train_tpr))\n",
    "    \n",
    "    test['.pred'] = et_model.predict(test[numeric_features + categorical_features])\n",
    "    test_probabilites = et_model.predict_proba(test[numeric_features + categorical_features])\n",
    "    test_fpr, test_tpr, test_thr = roc_curve(test[target], test_probabilites[:,1])\n",
    "    \n",
    "    print(\"(Test):\")\n",
    "    print(\"Accuracy %0.3f\" % accuracy_score(test[target], test['.pred']))\n",
    "    print(\"AUC.     %0.3f\" % auc(test_fpr,test_tpr))\n",
    "    \n",
    "    importance =  et_model.best_estimator_.named_steps[\"classifier\"].feature_importances_\n",
    "    \n",
    "    feature_imp ={}\n",
    "    for i,v in enumerate(importance):\n",
    "        feature_imp[feature_names[i]] = v\n",
    "        \n",
    "     # make the dictionary a data frame \n",
    "    feature_imp = pd.DataFrame.from_dict(feature_imp, orient='index',\n",
    "                                         columns=['importance'])\n",
    "\n",
    "    # -- prep and filter our dataframe, only need to look at the important features i.e. things > 0 \n",
    "    feature_imp = (feature_imp\n",
    "                   .reset_index()\n",
    "                   .rename(columns={'index':'feature'})\n",
    "                   .sort_values('importance',ascending=False)\n",
    "                   .query('importance > 0.01'))\n",
    "\n",
    "    # -- plot that \n",
    "    plt.figure(figsize=(20,5))\n",
    "    sns.barplot(y=\"importance\", x=\"feature\", data=feature_imp, color=\"lightblue\")\n",
    "    plt.title( 'Variable Iportance')\n",
    "    plt.ylabel('Feature')\n",
    "    plt.xlabel('Importance ')\n",
    "    plt.xticks(rotation=45)\n",
    "    plt.show()\n",
    "    \n",
    "    # -- make ROC charts \n",
    "    #- 5. FPR from 1 - 5% \n",
    "    model_stat = pd.concat([\n",
    "        pd.DataFrame(test_fpr).rename(columns={0:'fpr'}),\n",
    "        pd.DataFrame(test_tpr).rename(columns={0:'tpr'}),\n",
    "        pd.DataFrame(test_thr).rename(columns={0:'threshold'})\n",
    "        ],axis=1\n",
    "        ).round(decimals=2)\n",
    "   \n",
    "    # - just get 1% FPR increments o\n",
    "    m = model_stat.loc[model_stat.groupby([\"fpr\"])[\"threshold\"].idxmax()]    \n",
    "    \n",
    "    #- 3. get auc and threshold for train and test \n",
    "    train_auc = auc( train_fpr, train_tpr)\n",
    "    test_auc = auc(test_fpr, test_tpr)\n",
    "    \n",
    "    #- 6. plot\n",
    "    plt.figure(figsize=(20, 5))\n",
    "    plt.plot(train_fpr, train_tpr, color='darkorange',\n",
    "             lw=2, label='training (area = %0.2f)' % train_auc)\n",
    "    plt.plot(test_fpr, test_tpr, color='darkblue',\n",
    "             lw=2, label='testing (area = %0.2f)' % test_auc)\n",
    "    \n",
    "    plt.plot([0, 1], [0, 1], color='navy', lw=2, linestyle='--')\n",
    "    plt.xlim([0.0, 1.0])\n",
    "    plt.ylim([0.0, 1.05])\n",
    "    plt.axvline(x= 0.05,  color='r')\n",
    "    plt.xlabel('False Positive Rate')\n",
    "    plt.ylabel('True Positive Rate')\n",
    "    plt.title( 'RandomForest ROC Curve')\n",
    "    plt.legend(loc=\"lower right\")\n",
    "    plt.show()\n",
    "    \n",
    "    print(\"--- TEST score thresholds ---\")\n",
    "    print(m.loc[(m['fpr'] > 0.0 ) & (m['fpr'] <= 0.05)].reset_index(drop=True))\n",
    "    print(\"\\n\")\n",
    "    \n",
    "    \n",
    "    return et_model     \n",
    "\n",
    "param_grid = {\n",
    "            # 'classifier__n_estimators': [250, 500, 750],\n",
    "            'classifier__n_estimators': [10,20],\n",
    "            'classifier__max_depth': [15,20,25],\n",
    "            'classifier__min_samples_leaf': [2,4]\n",
    "    }\n",
    "\n",
    "et = model_et_fit(param_grid)"
   ]
  },
  {
   "cell_type": "code",
   "execution_count": 8,
   "metadata": {},
   "outputs": [
    {
     "name": "stdout",
     "output_type": "stream",
     "text": [
      "Fitting 3 folds for each of 12 candidates, totalling 36 fits\n"
     ]
    },
    {
     "name": "stderr",
     "output_type": "stream",
     "text": [
      "[Parallel(n_jobs=-1)]: Using backend LokyBackend with 4 concurrent workers.\n",
      "[Parallel(n_jobs=-1)]: Done  24 tasks      | elapsed:    7.6s\n",
      "[Parallel(n_jobs=-1)]: Done  36 out of  36 | elapsed:   11.6s finished\n"
     ]
    },
    {
     "name": "stdout",
     "output_type": "stream",
     "text": [
      "Best parameter (CV auc=0.913):\n",
      "{'classifier__max_depth': 15, 'classifier__min_samples_leaf': 4, 'classifier__n_estimators': 20}\n",
      "\n",
      "\n",
      "--- Training & Test Performance ---\n",
      "(Training):\n",
      "Accuracy 0.883\n",
      "AUC.     0.947\n",
      "(Test):\n",
      "Accuracy 0.865\n",
      "AUC.     0.915\n"
     ]
    },
    {
     "data": {
      "image/png": "[encoded data removed]",
      "text/plain": [
       "<Figure size 1440x360 with 1 Axes>"
      ]
     },
     "metadata": {
      "needs_background": "light"
     },
     "output_type": "display_data"
    },
    {
     "data": {
      "image/png": "[encoded data removed]",
      "text/plain": [
       "<Figure size 1440x360 with 1 Axes>"
      ]
     },
     "metadata": {
      "needs_background": "light"
     },
     "output_type": "display_data"
    },
    {
     "name": "stdout",
     "output_type": "stream",
     "text": [
      "--- TEST score thresholds ---\n",
      "    fpr   tpr  threshold\n",
      "0  0.01  0.33       0.76\n",
      "1  0.02  0.42       0.67\n",
      "2  0.03  0.49       0.61\n",
      "3  0.04  0.54       0.56\n",
      "4  0.05  0.58       0.52\n",
      "\n",
      "\n"
     ]
    }
   ],
   "source": [
    "from sklearn.model_selection import GridSearchCV\n",
    "from sklearn.metrics import roc_curve, auc\n",
    "\n",
    "def model_rf_fit(param_grid):\n",
    "    \n",
    "    # -- define pipeline --\n",
    "    categorical_pipe = Pipeline([\n",
    "        ('imputer', SimpleImputer(strategy='constant', fill_value='missing')),\n",
    "        ('trgenc',  TargetEncoder(smoothing = 2))  \n",
    "    ])\n",
    "\n",
    "    numerical_pipe = Pipeline([\n",
    "        ('imputer', SimpleImputer(strategy='mean'))\n",
    "    ])\n",
    "\n",
    "    preprocessing = ColumnTransformer(transformers=[\n",
    "        ('cat', categorical_pipe, categorical_features),\n",
    "        ('num', numerical_pipe, numeric_features)\n",
    "        ])\n",
    "\n",
    "    model_pipeline = Pipeline([\n",
    "        ('preprocess', preprocessing),\n",
    "        ('classifier', RandomForestClassifier())\n",
    "    ])\n",
    "    \n",
    "    \n",
    "    # -- setup grid search -- \n",
    "    rf_model = GridSearchCV(model_pipeline, param_grid, n_jobs=-1, verbose=3, cv=3, scoring=\"roc_auc\", refit=True)\n",
    "    # -- fit grid search --\n",
    "    rf_model.fit(train[numeric_features + categorical_features], train[target])\n",
    "    # -- print results -- \n",
    "    print(\"Best parameter (CV auc=%0.3f):\" % rf_model.best_score_)\n",
    "    print(rf_model.best_params_)\n",
    "    print(\"\\n\")\n",
    "    \n",
    "    # -- assess best model, notice refit=True -- \n",
    "    train['.pred'] = rf_model.predict(train[numeric_features + categorical_features])\n",
    "    train_probabilites = rf_model.predict_proba(train[numeric_features + categorical_features])\n",
    "    train_fpr, train_tpr, train_thr= roc_curve(train[target], train_probabilites[:,1])\n",
    "    \n",
    "    print(\"--- Training & Test Performance ---\")\n",
    "    print(\"(Training):\")\n",
    "    print(\"Accuracy %0.3f\" % accuracy_score(train[target], train['.pred']))\n",
    "    print(\"AUC.     %0.3f\" % auc(train_fpr,train_tpr))\n",
    "    \n",
    "    test['.pred'] = rf_model.predict(test[numeric_features + categorical_features])\n",
    "    test_probabilites = rf_model.predict_proba(test[numeric_features + categorical_features])\n",
    "    test_fpr, test_tpr, test_thr = roc_curve(test[target], test_probabilites[:,1])\n",
    "    \n",
    "    print(\"(Test):\")\n",
    "    print(\"Accuracy %0.3f\" % accuracy_score(test[target], test['.pred']))\n",
    "    print(\"AUC.     %0.3f\" % auc(test_fpr,test_tpr))\n",
    "    \n",
    "    importance =  rf_model.best_estimator_.named_steps[\"classifier\"].feature_importances_\n",
    "    \n",
    "    feature_imp ={}\n",
    "    for i,v in enumerate(importance):\n",
    "        feature_imp[feature_names[i]] = v\n",
    "        \n",
    "     # make the dictionary a data frame \n",
    "    feature_imp = pd.DataFrame.from_dict(feature_imp, orient='index',\n",
    "                                         columns=['importance'])\n",
    "\n",
    "    # -- prep and filter our dataframe, only need to look at the important features i.e. things > 0 \n",
    "    feature_imp = (feature_imp\n",
    "                   .reset_index()\n",
    "                   .rename(columns={'index':'feature'})\n",
    "                   .sort_values('importance',ascending=False)\n",
    "                   .query('importance > 0.01'))\n",
    "\n",
    "    # -- plot that \n",
    "    plt.figure(figsize=(20,5))\n",
    "    sns.barplot(y=\"importance\", x=\"feature\", data=feature_imp, color=\"lightblue\")\n",
    "    plt.title( 'Variable Iportance')\n",
    "    plt.ylabel('Feature')\n",
    "    plt.xlabel('Importance ')\n",
    "    plt.xticks(rotation=45)\n",
    "    plt.show()\n",
    "    \n",
    "    # -- make ROC charts \n",
    "    #- 5. FPR from 1 - 5% \n",
    "    model_stat = pd.concat([\n",
    "        pd.DataFrame(test_fpr).rename(columns={0:'fpr'}),\n",
    "        pd.DataFrame(test_tpr).rename(columns={0:'tpr'}),\n",
    "        pd.DataFrame(test_thr).rename(columns={0:'threshold'})\n",
    "        ],axis=1\n",
    "        ).round(decimals=2)\n",
    "   \n",
    "    # - just get 1% FPR increments o\n",
    "    m = model_stat.loc[model_stat.groupby([\"fpr\"])[\"threshold\"].idxmax()]    \n",
    "    \n",
    "    #- 3. get auc and threshold for train and test \n",
    "    train_auc = auc( train_fpr, train_tpr)\n",
    "    test_auc = auc(test_fpr, test_tpr)\n",
    "    \n",
    "    #- 6. plot\n",
    "    plt.figure(figsize=(20, 5))\n",
    "    plt.plot(train_fpr, train_tpr, color='darkorange',\n",
    "             lw=2, label='training (area = %0.2f)' % train_auc)\n",
    "    plt.plot(test_fpr, test_tpr, color='darkblue',\n",
    "             lw=2, label='testing (area = %0.2f)' % test_auc)\n",
    "    \n",
    "    plt.plot([0, 1], [0, 1], color='navy', lw=2, linestyle='--')\n",
    "    plt.xlim([0.0, 1.0])\n",
    "    plt.ylim([0.0, 1.05])\n",
    "    plt.axvline(x= 0.05,  color='r')\n",
    "    plt.xlabel('False Positive Rate')\n",
    "    plt.ylabel('True Positive Rate')\n",
    "    plt.title( 'RandomForest ROC Curve')\n",
    "    plt.legend(loc=\"lower right\")\n",
    "    plt.show()\n",
    "    \n",
    "    print(\"--- TEST score thresholds ---\")\n",
    "    print(m.loc[(m['fpr'] > 0.0 ) & (m['fpr'] <= 0.05)].reset_index(drop=True))\n",
    "    print(\"\\n\")\n",
    "    \n",
    "    \n",
    "    return rf_model     \n",
    "\n",
    "param_grid = {\n",
    "            'classifier__n_estimators': [10,20],\n",
    "            'classifier__max_depth': [15,20,25],\n",
    "            'classifier__min_samples_leaf': [2,4]\n",
    "    }\n",
    "\n",
    "rf = model_rf_fit(param_grid)\n"
   ]
  },
  {
   "cell_type": "code",
   "execution_count": 9,
   "metadata": {},
   "outputs": [
    {
     "name": "stdout",
     "output_type": "stream",
     "text": [
      "Fitting 3 folds for each of 48 candidates, totalling 144 fits\n"
     ]
    },
    {
     "name": "stderr",
     "output_type": "stream",
     "text": [
      "[Parallel(n_jobs=-1)]: Using backend LokyBackend with 4 concurrent workers.\n",
      "[Parallel(n_jobs=-1)]: Done  24 tasks      | elapsed:   15.8s\n",
      "[Parallel(n_jobs=-1)]: Done 120 tasks      | elapsed:  1.3min\n",
      "[Parallel(n_jobs=-1)]: Done 144 out of 144 | elapsed:  1.7min finished\n"
     ]
    },
    {
     "name": "stdout",
     "output_type": "stream",
     "text": [
      "Best parameter (CV auc=0.919):\n",
      "{'classifier__learning_rate': 0.2, 'classifier__max_depth': 10, 'classifier__min_samples_leaf': 2, 'classifier__n_estimators': 20}\n",
      "\n",
      "\n",
      "--- Training & Test Performance ---\n",
      "(Training):\n",
      "Accuracy 0.906\n",
      "AUC.     0.963\n",
      "(Test):\n",
      "Accuracy 0.868\n",
      "AUC.     0.921\n"
     ]
    },
    {
     "data": {
      "image/png": "[encoded data removed]",
      "text/plain": [
       "<Figure size 1440x360 with 1 Axes>"
      ]
     },
     "metadata": {
      "needs_background": "light"
     },
     "output_type": "display_data"
    },
    {
     "data": {
      "image/png": "[encoded data removed]",
      "text/plain": [
       "<Figure size 1440x360 with 1 Axes>"
      ]
     },
     "metadata": {
      "needs_background": "light"
     },
     "output_type": "display_data"
    },
    {
     "name": "stdout",
     "output_type": "stream",
     "text": [
      "--- TEST score thresholds ---\n",
      "    fpr   tpr  threshold\n",
      "0  0.01  0.35       0.80\n",
      "1  0.02  0.45       0.71\n",
      "2  0.03  0.51       0.64\n",
      "3  0.04  0.56       0.58\n",
      "4  0.05  0.59       0.54\n",
      "\n",
      "\n"
     ]
    }
   ],
   "source": [
    "from sklearn.model_selection import GridSearchCV\n",
    "from sklearn.metrics import roc_curve, auc\n",
    "\n",
    "def model_rf_fit(param_grid):\n",
    "    \n",
    "    # -- define pipeline --\n",
    "    categorical_pipe = Pipeline([\n",
    "        ('imputer', SimpleImputer(strategy='constant', fill_value='missing')),\n",
    "        ('trgenc',  TargetEncoder(smoothing = 2))  \n",
    "    ])\n",
    "\n",
    "    numerical_pipe = Pipeline([\n",
    "        ('imputer', SimpleImputer(strategy='mean'))\n",
    "    ])\n",
    "\n",
    "    preprocessing = ColumnTransformer(transformers=[\n",
    "        ('cat', categorical_pipe, categorical_features),\n",
    "        ('num', numerical_pipe, numeric_features)\n",
    "        ])\n",
    "\n",
    "    model_pipeline = Pipeline([\n",
    "        ('preprocess', preprocessing),\n",
    "        ('classifier', GradientBoostingClassifier())\n",
    "    ])\n",
    "    \n",
    "    \n",
    "    # -- setup grid search -- \n",
    "    gbm_model = GridSearchCV(model_pipeline, param_grid, n_jobs=-1, verbose=3, cv=3, scoring=\"roc_auc\", refit=True)\n",
    "    # -- fit grid search --\n",
    "    gbm_model.fit(train[numeric_features + categorical_features], train[target])\n",
    "    # -- print results -- \n",
    "    print(\"Best parameter (CV auc=%0.3f):\" % gbm_model.best_score_)\n",
    "    print(gbm_model.best_params_)\n",
    "    print(\"\\n\")\n",
    "    \n",
    "    # -- assess best model, notice refit=True -- \n",
    "    train['.pred'] = gbm_model.predict(train[numeric_features + categorical_features])\n",
    "    train_probabilites = gbm_model.predict_proba(train[numeric_features + categorical_features])\n",
    "    train_fpr, train_tpr, train_thr= roc_curve(train[target], train_probabilites[:,1])\n",
    "    \n",
    "    print(\"--- Training & Test Performance ---\")\n",
    "    print(\"(Training):\")\n",
    "    print(\"Accuracy %0.3f\" % accuracy_score(train[target], train['.pred']))\n",
    "    print(\"AUC.     %0.3f\" % auc(train_fpr,train_tpr))\n",
    "    \n",
    "    test['.pred'] = gbm_model.predict(test[numeric_features + categorical_features])\n",
    "    test_probabilites = gbm_model.predict_proba(test[numeric_features + categorical_features])\n",
    "    test_fpr, test_tpr, test_thr = roc_curve(test[target], test_probabilites[:,1])\n",
    "    \n",
    "    print(\"(Test):\")\n",
    "    print(\"Accuracy %0.3f\" % accuracy_score(test[target], test['.pred']))\n",
    "    print(\"AUC.     %0.3f\" % auc(test_fpr,test_tpr))\n",
    "    \n",
    "    importance =  gbm_model.best_estimator_.named_steps[\"classifier\"].feature_importances_\n",
    "    \n",
    "    feature_imp ={}\n",
    "    for i,v in enumerate(importance):\n",
    "        feature_imp[feature_names[i]] = v\n",
    "        \n",
    "     # make the dictionary a data frame \n",
    "    feature_imp = pd.DataFrame.from_dict(feature_imp, orient='index',\n",
    "                                         columns=['importance'])\n",
    "\n",
    "    # -- prep and filter our dataframe, only need to look at the important features i.e. things > 0 \n",
    "    feature_imp = (feature_imp\n",
    "                   .reset_index()\n",
    "                   .rename(columns={'index':'feature'})\n",
    "                   .sort_values('importance',ascending=False)\n",
    "                   .query('importance > 0.01'))\n",
    "\n",
    "    # -- plot that \n",
    "    plt.figure(figsize=(20,5))\n",
    "    sns.barplot(y=\"importance\", x=\"feature\", data=feature_imp, color=\"lightblue\")\n",
    "    plt.title( 'Variable Iportance')\n",
    "    plt.ylabel('Feature')\n",
    "    plt.xlabel('Importance ')\n",
    "    plt.xticks(rotation=45)\n",
    "    plt.show()\n",
    "    \n",
    "    # -- make ROC charts \n",
    "    #- 5. FPR from 1 - 5% \n",
    "    model_stat = pd.concat([\n",
    "        pd.DataFrame(test_fpr).rename(columns={0:'fpr'}),\n",
    "        pd.DataFrame(test_tpr).rename(columns={0:'tpr'}),\n",
    "        pd.DataFrame(test_thr).rename(columns={0:'threshold'})\n",
    "        ],axis=1\n",
    "        ).round(decimals=2)\n",
    "   \n",
    "    # - just get 1% FPR increments o\n",
    "    m = model_stat.loc[model_stat.groupby([\"fpr\"])[\"threshold\"].idxmax()]    \n",
    "    \n",
    "    #- 3. get auc and threshold for train and test \n",
    "    train_auc = auc( train_fpr, train_tpr)\n",
    "    test_auc = auc(test_fpr, test_tpr)\n",
    "    \n",
    "    #- 6. plot\n",
    "    plt.figure(figsize=(20, 5))\n",
    "    plt.plot(train_fpr, train_tpr, color='darkorange',\n",
    "             lw=2, label='training (area = %0.2f)' % train_auc)\n",
    "    plt.plot(test_fpr, test_tpr, color='darkblue',\n",
    "             lw=2, label='testing (area = %0.2f)' % test_auc)\n",
    "    \n",
    "    plt.plot([0, 1], [0, 1], color='navy', lw=2, linestyle='--')\n",
    "    plt.xlim([0.0, 1.0])\n",
    "    plt.ylim([0.0, 1.05])\n",
    "    plt.axvline(x= 0.05,  color='r')\n",
    "    plt.xlabel('False Positive Rate')\n",
    "    plt.ylabel('True Positive Rate')\n",
    "    plt.title( 'RandomForest ROC Curve')\n",
    "    plt.legend(loc=\"lower right\")\n",
    "    plt.show()\n",
    "    \n",
    "    print(\"--- TEST score thresholds ---\")\n",
    "    print(m.loc[(m['fpr'] > 0.0 ) & (m['fpr'] <= 0.05)].reset_index(drop=True))\n",
    "    print(\"\\n\")\n",
    "    \n",
    "    \n",
    "    return gbm_model     \n",
    "\n",
    "param_grid = {\n",
    "            'classifier__learning_rate':[0.01, 0.025, 0.05, 0.1, 0.15, 0.2],\n",
    "            'classifier__n_estimators': [10,20],\n",
    "            'classifier__max_depth': [5, 10],\n",
    "            'classifier__min_samples_leaf': [2,4]\n",
    "    }\n",
    "\n",
    "rf = model_rf_fit(param_grid)\n"
   ]
  },
  {
   "cell_type": "code",
   "execution_count": null,
   "metadata": {},
   "outputs": [],
   "source": []
  },
  {
   "cell_type": "code",
   "execution_count": null,
   "metadata": {},
   "outputs": [],
   "source": []
  },
  {
   "cell_type": "code",
   "execution_count": null,
   "metadata": {},
   "outputs": [],
   "source": []
  },
  {
   "cell_type": "code",
   "execution_count": null,
   "metadata": {},
   "outputs": [],
   "source": []
  }
 ],
 "metadata": {
  "kernelspec": {
   "display_name": "Python 3",
   "language": "python",
   "name": "python3"
  },
  "language_info": {
   "codemirror_mode": {
    "name": "ipython",
    "version": 3
   },
   "file_extension": ".py",
   "mimetype": "text/x-python",
   "name": "python",
   "nbconvert_exporter": "python",
   "pygments_lexer": "ipython3",
   "version": "3.7.3"
  }
 },
 "nbformat": 4,
 "nbformat_minor": 2
}
