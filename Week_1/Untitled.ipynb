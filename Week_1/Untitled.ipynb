{
 "cells": [
  {
   "cell_type": "code",
   "execution_count": null,
   "metadata": {},
   "outputs": [],
   "source": []
  },
  {
   "cell_type": "code",
   "execution_count": null,
   "metadata": {},
   "outputs": [],
   "source": []
  },
  {
   "cell_type": "code",
   "execution_count": 1,
   "metadata": {},
   "outputs": [
    {
     "name": "stdout",
     "output_type": "stream",
     "text": [
      "   Emotion Temperature StayHome\n",
      "0     sick        over        N\n",
      "1     sick        over        Y\n",
      "2  notsick        over        Y\n",
      "3  notsick        over        Y\n",
      "4     sick       under        N\n",
      "5  notsick       under        N\n",
      "6  notsick       under        N\n",
      "7     sick       under        Y\n"
     ]
    }
   ],
   "source": [
    "import pandas as pd\n",
    "import numpy as np\n",
    "Emotion=['sick','sick','sick','notsick','notsick','sick','notsick','notsick']\n",
    "Temperature = ['under','over','under','under','over','over','under','over']\n",
    "StayHome=['N','Y','Y','N','Y','N','N','Y']\n",
    "df=pd.DataFrame (list(zip(Emotion,Temperature,StayHome)),\n",
    "                columns=[\"Emotion\",\"Temperature\",\"StayHome\"])\n",
    "print(df.sort_values(['Temperature','StayHome']).reset_index(drop=True))"
   ]
  },
  {
   "cell_type": "code",
   "execution_count": 3,
   "metadata": {},
   "outputs": [
    {
     "data": {
      "text/plain": [
       "[0, 1]"
      ]
     },
     "execution_count": 3,
     "metadata": {},
     "output_type": "execute_result"
    }
   ],
   "source": [
    "\n",
    "# Identify the Outcome Variable\n",
    "Outcome='StayHome'\n",
    "# Creates a list of index without the outcome column\n",
    "outcome=df.columns.get_loc(Outcome)\n",
    "col_ls=list(range(len(df.columns)))\n",
    "col_ls.remove(outcome)\n",
    "#print feature positions\n",
    "col_ls"
   ]
  },
  {
   "cell_type": "code",
   "execution_count": 4,
   "metadata": {},
   "outputs": [
    {
     "name": "stdout",
     "output_type": "stream",
     "text": [
      "We have split on feature: ( Emotion ) where it equals ( notsick ) and has 4 observations \n",
      "\n",
      "We have split on feature: ( Emotion ) where it equals ( sick ) and has 4 observations \n",
      "\n"
     ]
    }
   ],
   "source": [
    "# create copy of data and get unique values in each feature\n",
    "new_df = df\n",
    "names, count=np.unique(new_df.iloc[:,col_ls[0]],return_counts=True)\n",
    "# returns how many unique feature there are in this split\n",
    "splitdf=len(names)\n",
    "for i in range(0,len(names)):\n",
    "    print(\"We have split on feature:\",\"(\",new_df.columns[0],\")\",\"where it equals\",\"(\",names[i],\")\",\"and has\",count[i],\"observations \\n\")"
   ]
  },
  {
   "cell_type": "code",
   "execution_count": 5,
   "metadata": {},
   "outputs": [
    {
     "name": "stdout",
     "output_type": "stream",
     "text": [
      "-----------------------------------------\n",
      "   Emotion Temperature StayHome\n",
      "3  notsick       under        N\n",
      "4  notsick        over        Y\n",
      "6  notsick       under        N\n",
      "7  notsick        over        Y \n",
      " \n",
      "\n",
      "-----------------------------------------\n",
      "  Emotion Temperature StayHome\n",
      "0    sick       under        N\n",
      "1    sick        over        Y\n",
      "2    sick       under        Y\n",
      "5    sick        over        N \n",
      " \n",
      "\n"
     ]
    }
   ],
   "source": [
    "for n in names:\n",
    "    print(\"-----------------------------------------\")\n",
    "    print(new_df[new_df.iloc[:,col_ls[0]]==n],\"\\n\",\"\\n\")"
   ]
  },
  {
   "cell_type": "code",
   "execution_count": 7,
   "metadata": {},
   "outputs": [
    {
     "name": "stdout",
     "output_type": "stream",
     "text": [
      "The gini impurity index is:  0.5 for \n",
      " \n",
      "   Emotion Temperature StayHome\n",
      "0    sick       under        N\n",
      "1    sick        over        N\n",
      "2    sick        over        Y\n",
      "3    sick       under        Y\n"
     ]
    }
   ],
   "source": [
    "\n",
    "splitdata=new_df[new_df.iloc[:,col_ls[0]]==names[1]]\n",
    "# outcome is defined above\n",
    "\n",
    "#gets the unique outcome values\n",
    "value=np.unique(df.iloc[:,outcome])\n",
    "#This will be used later when we computed the weighted gini value\n",
    "denS=len(splitdata)\n",
    "impurity=0\n",
    "                 \n",
    "for values in value:\n",
    "            p=splitdata.iloc[:,outcome].eq(values).sum()/denS\n",
    "            impurity +=p*(1-p)\n",
    "print (\"The gini impurity index is: \",impurity,\"for \\n \\n\", splitdata.sort_values(\"StayHome\").reset_index(drop=True))"
   ]
  },
  {
   "cell_type": "code",
   "execution_count": 8,
   "metadata": {},
   "outputs": [
    {
     "name": "stdout",
     "output_type": "stream",
     "text": [
      "The weighted gini impurtiy measure is: 0.5\n"
     ]
    }
   ],
   "source": [
    "#create empty list to hold each splits impurity and split count\n",
    "gini_metric=list()\n",
    "den_split=list()\n",
    "        \n",
    "for n in names:\n",
    "    splitdata=new_df[new_df.iloc[:,col_ls[0]]==n]\n",
    "    value=np.unique(df.iloc[:,outcome])\n",
    "#This will be used later when we computed the weighted gini value\n",
    "    denS=len(splitdata)\n",
    "    impurity=0\n",
    "                 \n",
    "    for values in value:\n",
    "            p=splitdata.iloc[:,outcome].eq(values).sum()/denS\n",
    "            impurity +=p*(1-p)\n",
    "    gini_metric.append(impurity)\n",
    "    den_split.append(denS)\n",
    "\n",
    "\n",
    "feature=splitdf\n",
    "# get the proporation of the split for current feature\n",
    "den_split1=[x/sum(den_split[0:feature]) for x in den_split[0:feature]]\n",
    "weighted_gini=sum(np.asarray(den_split1)*np.asarray(gini_metric[0:feature]))\n",
    "\n",
    "print(\"The weighted gini impurtiy measure is:\",weighted_gini)"
   ]
  },
  {
   "cell_type": "code",
   "execution_count": 9,
   "metadata": {},
   "outputs": [],
   "source": [
    "# Generalize our gini Function\n",
    "def Gini(splitdata,outcome):\n",
    "    # Get unique Outcome values\n",
    "    value=np.unique(splitdata.iloc[:,outcome])\n",
    "    denS=len(splitdata)\n",
    "    impurity=0\n",
    "    for values in value:\n",
    "                    p=splitdata.iloc[:,outcome].eq(values).sum()/denS\n",
    "                    impurity +=p*(1-p)\n",
    "    return (impurity,denS)\n",
    "\n",
    "#Tree\n",
    "def SimpleTree(df,Outcome):\n",
    "    if type(Outcome)==str:\n",
    "        \n",
    "         #empty list to hold information\n",
    "        splitdf=list()\n",
    "        gini_metric=list()\n",
    "        w_gini=list()\n",
    "        den_split=list()\n",
    "        split_data=list()\n",
    "        count=0\n",
    "        split_data_index=list()\n",
    "        P=list()\n",
    "        \n",
    "        #Creates a list of index without the outcome column\n",
    "        outcome=df.columns.get_loc(Outcome)\n",
    "        col_ls=list(range(len(df.columns)))\n",
    "        col_ls.remove(outcome)\n",
    "       \n",
    "        #begin loops\n",
    "        for col in col_ls:\n",
    "            #create copy of data and get unique values in each feature\n",
    "            new_df=df\n",
    "            names,count=np.unique(new_df.iloc[:,col],return_counts=True)\n",
    "            #Returns the number of splits per feature \n",
    "            splitdf.append(len(names))\n",
    "            \n",
    "            for n in names:\n",
    "                #returns the columns such that it equals the split criteria\n",
    "                split_df=new_df[new_df.iloc[:,col]==n]\n",
    "                #add df to list\n",
    "                split_data.append(split_df)\n",
    "                #keep track of the columns split data set\n",
    "                index=pd.DataFrame(list([col]))\n",
    "                split_data_index.append(index)\n",
    "     \n",
    "        # Get unique Outcome values\n",
    "        value=np.unique(df.iloc[:,outcome])\n",
    "        \n",
    "        for data in split_data:\n",
    "            #calcualte Gini at each split\n",
    "            impurity,denS=Gini(data,outcome)\n",
    "            #append lists\n",
    "            gini_metric.append(impurity)\n",
    "            den_split.append(denS)\n",
    "        # For loop which will iterate on the number of splits per feature to get the WEIGHTED GINI METRIC\n",
    "        for feature in splitdf:\n",
    "            # get the proporation of the split for current feature\n",
    "            den_split1=[x/sum(den_split[0:feature]) for x in den_split[0:feature]]\n",
    "            weighted_gini=sum(np.asarray(den_split1)*np.asarray(gini_metric[0:feature]))\n",
    "            #remove the gini and feature count split for the next iteration\n",
    "                              \n",
    "            w_gini.append(weighted_gini)\n",
    "            del(gini_metric[0:feature], den_split[0:feature])\n",
    "    else: print(\"Place Outcome Variable Name in \\'Single\\' quotes\")\n",
    "    #return feature with the smallest impurity index\n",
    "    f_col=w_gini.index(min(w_gini))\n",
    "    #returns the name\n",
    "    bestsplit=df.columns[f_col]\n",
    "    return(col_ls,w_gini,split_data,split_data_index,f_col)\n",
    "#------------------------------------------------------------------------------------------"
   ]
  },
  {
   "cell_type": "code",
   "execution_count": 10,
   "metadata": {},
   "outputs": [
    {
     "name": "stdout",
     "output_type": "stream",
     "text": [
      "Feature ( Emotion ) Weighted Gini Impurity Index is: 0.5 \n",
      "\n",
      "Feature ( Temperature ) Weighted Gini Impurity Index is: 0.375 \n",
      "\n",
      "The Best split is with feature ( Temperature )\n"
     ]
    }
   ],
   "source": [
    "col_ls,w_gini,split_data,split_index,bestsplit=SimpleTree(df,\"StayHome\")\n",
    "for col in col_ls:\n",
    "           print(\"Feature\",\"(\",df.columns[col],\")\",\"Weighted Gini Impurity Index is:\", w_gini[col],\"\\n\")\n",
    "print(\"The Best split is with feature\",\"(\",df.columns[bestsplit],\")\")"
   ]
  },
  {
   "cell_type": "code",
   "execution_count": null,
   "metadata": {},
   "outputs": [],
   "source": []
  }
 ],
 "metadata": {
  "kernelspec": {
   "display_name": "Python 3",
   "language": "python",
   "name": "python3"
  },
  "language_info": {
   "codemirror_mode": {
    "name": "ipython",
    "version": 3
   },
   "file_extension": ".py",
   "mimetype": "text/x-python",
   "name": "python",
   "nbconvert_exporter": "python",
   "pygments_lexer": "ipython3",
   "version": "3.7.3"
  }
 },
 "nbformat": 4,
 "nbformat_minor": 2
}
